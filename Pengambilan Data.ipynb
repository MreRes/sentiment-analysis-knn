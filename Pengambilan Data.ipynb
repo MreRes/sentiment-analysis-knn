{
 "cells": [
  {
   "cell_type": "markdown",
   "metadata": {
    "colab_type": "text",
    "id": "nrnntqkbzC-i"
   },
   "source": [
    "# PYTHON LIBRARY"
   ]
  },
  {
   "cell_type": "code",
   "execution_count": 2,
   "metadata": {
    "colab": {
     "base_uri": "https://localhost:8080/",
     "height": 153
    },
    "colab_type": "code",
    "id": "EN8A4e-4xnaJ",
    "outputId": "a37fe072-9bf0-44f6-a528-fd57dc990b3b"
   },
   "outputs": [
    {
     "name": "stderr",
     "output_type": "stream",
     "text": [
      "[nltk_data] Downloading package punkt to\n",
      "[nltk_data]     C:\\Users\\TanpaNama\\AppData\\Roaming\\nltk_data...\n",
      "[nltk_data]   Package punkt is already up-to-date!\n",
      "[nltk_data] Downloading package stopwords to\n",
      "[nltk_data]     C:\\Users\\TanpaNama\\AppData\\Roaming\\nltk_data...\n",
      "[nltk_data]   Package stopwords is already up-to-date!\n",
      "[nltk_data] Downloading package wordnet to\n",
      "[nltk_data]     C:\\Users\\TanpaNama\\AppData\\Roaming\\nltk_data...\n",
      "[nltk_data]   Package wordnet is already up-to-date!\n"
     ]
    }
   ],
   "source": [
    "# Import Python Library\n",
    "\n",
    "# For Twitter authentication\n",
    "import tweepy\n",
    "\n",
    "# To read, save, or load the dataset\n",
    "import pandas as pd\n",
    "import csv"
   ]
  },
  {
   "cell_type": "markdown",
   "metadata": {
    "colab_type": "text",
    "id": "ML3Mz71UzLLT"
   },
   "source": [
    "# TWITTER API"
   ]
  },
  {
   "cell_type": "code",
   "execution_count": 4,
   "metadata": {
    "colab": {},
    "colab_type": "code",
    "id": "71yVMxsmxpJ5"
   },
   "outputs": [],
   "source": [
    "# Twitter API Credentials \n",
    "consumer_key = 'NLQx4lt7AwyIGVxq6ll9Onzf9'\n",
    "consumer_secret = 'IVo6nTd9IbyXFKFonQpfdt29YWpc947L3ux0ht7NK3CEW2rCzA'\n",
    "access_token = '1242358909286772736-YjpcUOfW2i1YdbnYjsM76yzuPRUBUd'\n",
    "access_secret = 'fzB2KTh4gYf1TQQS2de2TV1ikOpG6hw6f6bqR8XjNIqlo'"
   ]
  },
  {
   "cell_type": "code",
   "execution_count": 5,
   "metadata": {
    "colab": {},
    "colab_type": "code",
    "id": "5Ra66ofRxpL4"
   },
   "outputs": [],
   "source": [
    "# Create the authentication object \n",
    "auth = tweepy.OAuthHandler(consumer_key, consumer_secret)\n",
    "\n",
    "# Set the access token and access token secret\n",
    "auth.set_access_token(access_token, access_secret)\n",
    "\n",
    "# Create the API object while passing in the auth information \n",
    "api = tweepy.API(auth, wait_on_rate_limit = True)"
   ]
  },
  {
   "cell_type": "markdown",
   "metadata": {
    "colab_type": "text",
    "id": "kD7hjHomzQLi"
   },
   "source": [
    "# DATA CRAWLING AND STORING"
   ]
  },
  {
   "cell_type": "code",
   "execution_count": 10,
   "metadata": {
    "colab": {},
    "colab_type": "code",
    "id": "nk1uwMMtxpUN"
   },
   "outputs": [
    {
     "name": "stderr",
     "output_type": "stream",
     "text": [
      "Rate limit reached. Sleeping for: 764\n",
      "Rate limit reached. Sleeping for: 809\n"
     ]
    }
   ],
   "source": [
    "search_words = \"pemerintah AND BBM -filter:retweets AND -filter:replies\"\n",
    " \n",
    "tweets = tweepy.Cursor(api.search_tweets, q=search_words, lang=\"id\", tweet_mode='extended').items(10000)\n",
    "            \n",
    "tweet_details = [[tweet.id, tweet.created_at, tweet.full_text.replace('\\n',' '), tweet.user.screen_name,  tweet.user.followers_count, tweet.user.location] for tweet in tweets]\n"
   ]
  },
  {
   "cell_type": "code",
   "execution_count": 11,
   "metadata": {
    "colab": {
     "base_uri": "https://localhost:8080/",
     "height": 359
    },
    "colab_type": "code",
    "id": "5kXTyaRpxpWZ",
    "outputId": "57eaaf4b-aeaf-41e6-e681-c4a3e7743309"
   },
   "outputs": [
    {
     "data": {
      "text/html": [
       "<div>\n",
       "<style scoped>\n",
       "    .dataframe tbody tr th:only-of-type {\n",
       "        vertical-align: middle;\n",
       "    }\n",
       "\n",
       "    .dataframe tbody tr th {\n",
       "        vertical-align: top;\n",
       "    }\n",
       "\n",
       "    .dataframe thead th {\n",
       "        text-align: right;\n",
       "    }\n",
       "</style>\n",
       "<table border=\"1\" class=\"dataframe\">\n",
       "  <thead>\n",
       "    <tr style=\"text-align: right;\">\n",
       "      <th></th>\n",
       "      <th>id</th>\n",
       "      <th>timestamp</th>\n",
       "      <th>tweet_text</th>\n",
       "      <th>username</th>\n",
       "      <th>followers_count</th>\n",
       "      <th>location</th>\n",
       "    </tr>\n",
       "  </thead>\n",
       "  <tbody>\n",
       "    <tr>\n",
       "      <th>0</th>\n",
       "      <td>1577795773596434432</td>\n",
       "      <td>2022-10-05 23:00:01+00:00</td>\n",
       "      <td>Soal Isu Pertalite Boros, Pemerintah menepis d...</td>\n",
       "      <td>ucinglicious</td>\n",
       "      <td>12</td>\n",
       "      <td></td>\n",
       "    </tr>\n",
       "    <tr>\n",
       "      <th>1</th>\n",
       "      <td>1577750619221524480</td>\n",
       "      <td>2022-10-05 20:00:35+00:00</td>\n",
       "      <td>Jika revolusi BBM ke Listrik ini berhasil.Peme...</td>\n",
       "      <td>yunius_psi</td>\n",
       "      <td>13</td>\n",
       "      <td></td>\n",
       "    </tr>\n",
       "    <tr>\n",
       "      <th>2</th>\n",
       "      <td>1577700276257136643</td>\n",
       "      <td>2022-10-05 16:40:32+00:00</td>\n",
       "      <td>Harga Minyak Dunia Terus Turun, Saatnya Pemeri...</td>\n",
       "      <td>dpc_wringinanom</td>\n",
       "      <td>64</td>\n",
       "      <td>wringinanom gresik jawa timur</td>\n",
       "    </tr>\n",
       "    <tr>\n",
       "      <th>3</th>\n",
       "      <td>1577678075570987008</td>\n",
       "      <td>2022-10-05 15:12:19+00:00</td>\n",
       "      <td>Komitmen pemerintah untuk menyalurkan BLT BBM ...</td>\n",
       "      <td>gittryani</td>\n",
       "      <td>1</td>\n",
       "      <td></td>\n",
       "    </tr>\n",
       "    <tr>\n",
       "      <th>4</th>\n",
       "      <td>1577678052623933440</td>\n",
       "      <td>2022-10-05 15:12:14+00:00</td>\n",
       "      <td>Komitmen pemerintah untuk menyalurkan BLT BBM ...</td>\n",
       "      <td>gittryani</td>\n",
       "      <td>1</td>\n",
       "      <td></td>\n",
       "    </tr>\n",
       "    <tr>\n",
       "      <th>...</th>\n",
       "      <td>...</td>\n",
       "      <td>...</td>\n",
       "      <td>...</td>\n",
       "      <td>...</td>\n",
       "      <td>...</td>\n",
       "      <td>...</td>\n",
       "    </tr>\n",
       "    <tr>\n",
       "      <th>4164</th>\n",
       "      <td>1574929212078641153</td>\n",
       "      <td>2022-09-28 01:09:19+00:00</td>\n",
       "      <td>Masyarakat sudah menerima BLT BBM yang disalur...</td>\n",
       "      <td>Kamto97182089</td>\n",
       "      <td>337</td>\n",
       "      <td>Sumatera Utara, Indonesia</td>\n",
       "    </tr>\n",
       "    <tr>\n",
       "      <th>4165</th>\n",
       "      <td>1574928870809411584</td>\n",
       "      <td>2022-09-28 01:07:58+00:00</td>\n",
       "      <td>Orang kaya paling menikmati subsidi BBM. Ini y...</td>\n",
       "      <td>RikiCharles</td>\n",
       "      <td>9</td>\n",
       "      <td>East Borneo, Indonesia</td>\n",
       "    </tr>\n",
       "    <tr>\n",
       "      <th>4166</th>\n",
       "      <td>1574922064850722817</td>\n",
       "      <td>2022-09-28 00:40:55+00:00</td>\n",
       "      <td>Seperti yang saya usulkan bahwa untuk urusan d...</td>\n",
       "      <td>asboediono_id</td>\n",
       "      <td>12677</td>\n",
       "      <td>Karalee,Ipswich Sunshine State</td>\n",
       "    </tr>\n",
       "    <tr>\n",
       "      <th>4167</th>\n",
       "      <td>1574905506430586880</td>\n",
       "      <td>2022-09-27 23:35:07+00:00</td>\n",
       "      <td>Bagus ini, artinya masyarakat udah pada sadar ...</td>\n",
       "      <td>abdurrahmanalf_</td>\n",
       "      <td>782</td>\n",
       "      <td></td>\n",
       "    </tr>\n",
       "    <tr>\n",
       "      <th>4168</th>\n",
       "      <td>1574894054906949632</td>\n",
       "      <td>2022-09-27 22:49:37+00:00</td>\n",
       "      <td>Jika ingin mengurangi beban pemerintah, maka j...</td>\n",
       "      <td>FeriMuhamad</td>\n",
       "      <td>279</td>\n",
       "      <td></td>\n",
       "    </tr>\n",
       "  </tbody>\n",
       "</table>\n",
       "<p>4169 rows × 6 columns</p>\n",
       "</div>"
      ],
      "text/plain": [
       "                       id                 timestamp  \\\n",
       "0     1577795773596434432 2022-10-05 23:00:01+00:00   \n",
       "1     1577750619221524480 2022-10-05 20:00:35+00:00   \n",
       "2     1577700276257136643 2022-10-05 16:40:32+00:00   \n",
       "3     1577678075570987008 2022-10-05 15:12:19+00:00   \n",
       "4     1577678052623933440 2022-10-05 15:12:14+00:00   \n",
       "...                   ...                       ...   \n",
       "4164  1574929212078641153 2022-09-28 01:09:19+00:00   \n",
       "4165  1574928870809411584 2022-09-28 01:07:58+00:00   \n",
       "4166  1574922064850722817 2022-09-28 00:40:55+00:00   \n",
       "4167  1574905506430586880 2022-09-27 23:35:07+00:00   \n",
       "4168  1574894054906949632 2022-09-27 22:49:37+00:00   \n",
       "\n",
       "                                             tweet_text         username  \\\n",
       "0     Soal Isu Pertalite Boros, Pemerintah menepis d...     ucinglicious   \n",
       "1     Jika revolusi BBM ke Listrik ini berhasil.Peme...       yunius_psi   \n",
       "2     Harga Minyak Dunia Terus Turun, Saatnya Pemeri...  dpc_wringinanom   \n",
       "3     Komitmen pemerintah untuk menyalurkan BLT BBM ...        gittryani   \n",
       "4     Komitmen pemerintah untuk menyalurkan BLT BBM ...        gittryani   \n",
       "...                                                 ...              ...   \n",
       "4164  Masyarakat sudah menerima BLT BBM yang disalur...    Kamto97182089   \n",
       "4165  Orang kaya paling menikmati subsidi BBM. Ini y...      RikiCharles   \n",
       "4166  Seperti yang saya usulkan bahwa untuk urusan d...    asboediono_id   \n",
       "4167  Bagus ini, artinya masyarakat udah pada sadar ...  abdurrahmanalf_   \n",
       "4168  Jika ingin mengurangi beban pemerintah, maka j...      FeriMuhamad   \n",
       "\n",
       "      followers_count                        location  \n",
       "0                  12                                  \n",
       "1                  13                                  \n",
       "2                  64   wringinanom gresik jawa timur  \n",
       "3                   1                                  \n",
       "4                   1                                  \n",
       "...               ...                             ...  \n",
       "4164              337       Sumatera Utara, Indonesia  \n",
       "4165                9          East Borneo, Indonesia  \n",
       "4166            12677  Karalee,Ipswich Sunshine State  \n",
       "4167              782                                  \n",
       "4168              279                                  \n",
       "\n",
       "[4169 rows x 6 columns]"
      ]
     },
     "execution_count": 11,
     "metadata": {},
     "output_type": "execute_result"
    }
   ],
   "source": [
    "\n",
    "tweet_df = pd.DataFrame(data=tweet_details, columns=['id','timestamp', 'tweet_text', 'username', 'followers_count', \"location\"])\n",
    "\n",
    "tweet_df.head(10000)"
   ]
  },
  {
   "cell_type": "code",
   "execution_count": 12,
   "metadata": {},
   "outputs": [],
   "source": [
    "tweet_df.to_csv('dataset_crawling.csv')"
   ]
  }
 ],
 "metadata": {
  "colab": {
   "collapsed_sections": [],
   "name": "SMA_Assignment_2.ipynb",
   "provenance": [],
   "toc_visible": true
  },
  "kernelspec": {
   "display_name": "Python 3 (ipykernel)",
   "language": "python",
   "name": "python3"
  },
  "language_info": {
   "codemirror_mode": {
    "name": "ipython",
    "version": 3
   },
   "file_extension": ".py",
   "mimetype": "text/x-python",
   "name": "python",
   "nbconvert_exporter": "python",
   "pygments_lexer": "ipython3",
   "version": "3.9.12"
  },
  "vscode": {
   "interpreter": {
    "hash": "8a933dcd14ebf79ab583a2d16e2b0d49bf89bdfcae61cf9785c692716f8fcc13"
   }
  }
 },
 "nbformat": 4,
 "nbformat_minor": 1
}
